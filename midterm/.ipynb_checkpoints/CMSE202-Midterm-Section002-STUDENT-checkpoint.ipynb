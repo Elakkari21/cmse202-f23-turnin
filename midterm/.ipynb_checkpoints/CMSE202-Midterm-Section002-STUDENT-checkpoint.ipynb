{
 "cells": [
  {
   "cell_type": "markdown",
   "metadata": {},
   "source": [
    "## <p style=\"text-align: right;\"> &#9989;Katrina Elakkari</p>"
   ]
  },
  {
   "cell_type": "markdown",
   "metadata": {},
   "source": [
    "# CMSE 202 Midterm (Section 002 - Fall 2023)\n",
    "\n",
    "The goal of this midterm is to give you the opportunity to test out some of the skills that you've developed thus far this semester. In particular, you'll practice setting up a GitHub repository, committing and pushing repository changes, downloading data with command line tools, performing some data analysis, possibly using a new Python package, and writing a python class. You should find that you have all of the skills necessary to complete this exam with even just eight weeks of CMSE 202 under your belt!\n",
    "\n",
    "You are encouraged to look through the entire exam before you get started so that you can appropriately budget your time and understand the broad goals of the exam. Once you've read through it, try doing Parts 0 and 1 first so that you have your repository set up and you download all necessary data files as they will be necessary to complete the assigned tasks. Let your instructor know right away if you have problems downloading the data!\n",
    "\n",
    "**The exam is set up so that even if you get stuck on one part there are opportunities to get points on the other parts, so consider jumping ahead if you feel like you aren't making progress and then come back later if you have time.**\n",
    "\n",
    "**Important note about using online resources**: This exam is \"open internet\". That means that you can look up documentation, google how to accomplish certain Python tasks, etc. Being able to effectively use the internet for computational modeling and data science is a very important skill, so we want to make sure you have the opportunity to exercise that skill. **However**: The use of any person-to-person communication software is absolutely not acceptable. If you are seen accessing your email, using a chat program (e.g. Slack), or any sort of collaborative cloud storage or document software (e.g. Google Documents), you will be at risk for receiving a zero on the exam.\n",
    "\n",
    "**Keep your eyes on your screen!** Unfortunately, there isn't enough space in the room for everyone to sit at their own table so please do your best to keep your eyes on your own screen. This exam is designed to give *you* the opportunity to show the instructor what you can do and you should hold yourself accountable for maintaining a high level of academic integrity. If any of the instructors observe suspicious behavior, you will, again, risk receiving a zero.\n",
    "\n",
    "There are **60 points** possible on this exam. The point breakdowns are in the section headers and within each question."
   ]
  },
  {
   "cell_type": "markdown",
   "metadata": {},
   "source": [
    "---\n",
    "## Part 0: Academic integrity statement\n",
    "\n",
    "Read the following statement and edit the markdown text to put your name in the statement. This is your commitment to doing your own authentic work on this exam."
   ]
  },
  {
   "cell_type": "markdown",
   "metadata": {},
   "source": [
    "> I, **Katrina Elakkari**, affirm that this exam represents my own authetic work, without the use of any unpermitted aids or resources or person-to-person communication. I understand that this exam an an opportunity to showcase my own progress in developing and improving my computational skills and have done my best to demonstrate those skills."
   ]
  },
  {
   "cell_type": "markdown",
   "metadata": {},
   "source": [
    "---\n",
    "## Part 1: Add to your Git repository to track your progress on your exam (6 points)\n",
    "\n",
    "Before you get to far along in the exam, you're going to add it to the `cmse202-f23-turnin` repository you created in class (or in Homework 1) so that you can track your progress on the exam and preserve the final version that you turn in. In order to do this you need to\n",
    "\n",
    "**&#9989; Do the following**:\n",
    "\n",
    "1. Navigate to your `cmse202-f23-turnin` repository and create a new directory called `midterm`.\n",
    "2. Move this notebook into that **new directory** in your repository, then **add it and commit it to your repository**.\n",
    "1. Finally, to test that everything is working, \"git push\" the file so that it ends up in your GitHub repository.\n",
    "\n",
    "**Important**: Double check you've added your Professor and your TA as collaborators to your \"turnin\" respository (you should have done this in your homework assignment).\n",
    "\n",
    "**Also important**: Make sure that the version of this notebook that you are working on is the same one that you just added to your repository! If you are working on a different copy of the notebook, **none of your changes will be tracked**!\n",
    "\n",
    "If everything went as intended, the file should now show up on your GitHub account in the \"`cmse202-f23-turnin`\" repository inside the `midterm` directory that you just created.  Periodically, **you'll be asked to commit your changes to the repository and push them to the remote GitHub location**. Of course, you can always commit your changes more often than that, if you wish.  It can be good to get into a habit of committing your changes any time you make a significant modification, or when you stop working on the project for a bit.\n",
    "\n",
    "&#9989; **Do this**: Before you move on, put the command that your instructor should run to clone your repository in the markdown cell below."
   ]
  },
  {
   "cell_type": "markdown",
   "metadata": {},
   "source": [
    "``` bash\n",
    "git clone https://github.com/elakkari21/cmse202-f23-turnin.git \n",
    "```"
   ]
  },
  {
   "cell_type": "markdown",
   "metadata": {},
   "source": [
    "---\n",
    "## Part 2: Downloading and analyzing unfamiliar data (23 points)"
   ]
  },
  {
   "cell_type": "markdown",
   "metadata": {},
   "source": [
    "In this part of the exam, you will use load and visualize a dataset that you probably have not used before. In particular, you will be working with data on several popular cereal brands. Some information about the dataset can be found here https://www.kaggle.com/datasets/crawford/80-cereals.\n",
    "\n",
    "To get started, you will need to download the file - `cereal.csv`. Since it might be annoying to download the `cereal.csv` file from Kaggle, I have provided the following direct link to this file:\n",
    "* `https://raw.githubusercontent.com/skarnik1337/cmse202sec002f23midterm/main/cereal.csv`\n",
    "\n",
    "The file is also on D2L."
   ]
  },
  {
   "cell_type": "markdown",
   "metadata": {},
   "source": [
    "&#9989; **Question 2.1 (1 point)**: **Do this now:** Save these files in the same directory as your notebook so you can load them directly. **Then, in the cell below, put the command line command(s) you used to download the files.** If you did not use a command line tool to download the files, write down the command(s) that *would* have downloaded the files."
   ]
  },
  {
   "cell_type": "markdown",
   "metadata": {},
   "source": [
    "``` bash\n",
    "wget \n",
    "\n",
    "```"
   ]
  },
  {
   "cell_type": "markdown",
   "metadata": {},
   "source": [
    "&#9989; **Question 2.2 (2 points)**: Read in the `cereal.csv` dataset into a `Pandas` `DataFrame` and then display the first 15 rows."
   ]
  },
  {
   "cell_type": "code",
   "execution_count": 1,
   "metadata": {},
   "outputs": [
    {
     "name": "stdout",
     "output_type": "stream",
     "text": [
      "                         name mfr type  calories  protein  fat  sodium  fiber  \\\n",
      "0                   100% Bran   N    C        70        4    1     130   10.0   \n",
      "1           100% Natural Bran   Q    C       120        3    5      15    2.0   \n",
      "2                    All-Bran   K    C        70        4    1     260    9.0   \n",
      "3   All-Bran with Extra Fiber   K    C        50        4    0     140   14.0   \n",
      "4              Almond Delight   R    C       110        2    2     200    1.0   \n",
      "5     Apple Cinnamon Cheerios   G    C       110        2    2     180    1.5   \n",
      "6                 Apple Jacks   K    C       110        2    0     125    1.0   \n",
      "7                     Basic 4   G    C       130        3    2     210    2.0   \n",
      "8                   Bran Chex   R    C        90        2    1     200    4.0   \n",
      "9                 Bran Flakes   P    C        90        3    0     210    5.0   \n",
      "10               Cap'n'Crunch   Q    C       120        1    2     220    0.0   \n",
      "11                   Cheerios   G    C       110        6    2     290    2.0   \n",
      "12      Cinnamon Toast Crunch   G    C       120        1    3     210    0.0   \n",
      "13                   Clusters   G    C       110        3    2     140    2.0   \n",
      "14                Cocoa Puffs   G    C       110        1    1     180    0.0   \n",
      "\n",
      "    carbo  sugars  potass  vitamins  shelf  weight  cups     rating  \n",
      "0     5.0       6     280        25      3    1.00  0.33  68.402973  \n",
      "1     8.0       8     135         0      3    1.00  1.00  33.983679  \n",
      "2     7.0       5     320        25      3    1.00  0.33  59.425505  \n",
      "3     8.0       0     330        25      3    1.00  0.50  93.704912  \n",
      "4    14.0       8      -1        25      3    1.00  0.75  34.384843  \n",
      "5    10.5      10      70        25      1    1.00  0.75  29.509541  \n",
      "6    11.0      14      30        25      2    1.00  1.00  33.174094  \n",
      "7    18.0       8     100        25      3    1.33  0.75  37.038562  \n",
      "8    15.0       6     125        25      1    1.00  0.67  49.120253  \n",
      "9    13.0       5     190        25      3    1.00  0.67  53.313813  \n",
      "10   12.0      12      35        25      2    1.00  0.75  18.042851  \n",
      "11   17.0       1     105        25      1    1.00  1.25  50.764999  \n",
      "12   13.0       9      45        25      2    1.00  0.75  19.823573  \n",
      "13   13.0       7     105        25      3    1.00  0.50  40.400208  \n",
      "14   12.0      13      55        25      2    1.00  1.00  22.736446  \n"
     ]
    }
   ],
   "source": [
    "import pandas as pd\n",
    "\n",
    "cereal_data = pd.read_csv('cereal.csv')\n",
    "\n",
    "print(cereal_data.head(15))"
   ]
  },
  {
   "cell_type": "markdown",
   "metadata": {},
   "source": [
    "&#9989; **Question 2.3 (8 points total)**: For each of the five questions below, write a **short** amount of code to answer the question. **Note that you must use code to figure out the answer. Viewing the entire dataframe and manually counting to get the answer will not receive credit.**"
   ]
  },
  {
   "cell_type": "markdown",
   "metadata": {},
   "source": [
    "&#9989; **Question 2.3.1 (1 point)**: How many cereals/rows are in this dataset?"
   ]
  },
  {
   "cell_type": "code",
   "execution_count": 2,
   "metadata": {},
   "outputs": [
    {
     "data": {
      "text/plain": [
       "'There are 77 cereals in this dataset'"
      ]
     },
     "execution_count": 2,
     "metadata": {},
     "output_type": "execute_result"
    }
   ],
   "source": [
    "rows = cereal_data.shape[0]\n",
    "\n",
    "f\"There are {rows} cereals in this dataset\""
   ]
  },
  {
   "cell_type": "markdown",
   "metadata": {},
   "source": [
    "&#9989; **Question 2.3.2 (1 point)**: How many fields/features/columns does this dataset have?"
   ]
  },
  {
   "cell_type": "code",
   "execution_count": 3,
   "metadata": {},
   "outputs": [
    {
     "data": {
      "text/plain": [
       "'There are 16 features in this dataset'"
      ]
     },
     "execution_count": 3,
     "metadata": {},
     "output_type": "execute_result"
    }
   ],
   "source": [
    "columns=cereal_data.shape[1]\n",
    "\n",
    "f\"There are {columns} features in this dataset\""
   ]
  },
  {
   "cell_type": "markdown",
   "metadata": {},
   "source": [
    "&#9989; **Question 2.3.3 (1 point)**: How many different cereal manufacturers have at least one cereal in this dataset? The manufacturer of each cereal is given by a letter in the `mfr` column. **Hint**: A `Pandas` has a `unique()` method. "
   ]
  },
  {
   "cell_type": "code",
   "execution_count": 4,
   "metadata": {},
   "outputs": [
    {
     "data": {
      "text/plain": [
       "'There are 7 different cereal manufacturers that have at least one cereal in this dataset'"
      ]
     },
     "execution_count": 4,
     "metadata": {},
     "output_type": "execute_result"
    }
   ],
   "source": [
    "unique_mans=len(cereal_data['mfr'].unique())\n",
    "\n",
    "f\"There are {unique_mans} different cereal manufacturers that have at least one cereal in this dataset\""
   ]
  },
  {
   "cell_type": "markdown",
   "metadata": {},
   "source": [
    "&#9989; **Question 2.3.4 (1 point)**: What is the maximum amount of sodium in a single serving of any of the cereals? (We are asking for the amount of sodium, not which cereal brand). **Hint** `Pandas` has a `max()` method."
   ]
  },
  {
   "cell_type": "code",
   "execution_count": 5,
   "metadata": {},
   "outputs": [
    {
     "data": {
      "text/plain": [
       "'The maximum amount of sodium in a single serving of any of the cereals is 320'"
      ]
     },
     "execution_count": 5,
     "metadata": {},
     "output_type": "execute_result"
    }
   ],
   "source": [
    "max_sodium= cereal_data['sodium'].max()\n",
    "\n",
    "f\"The maximum amount of sodium in a single serving of any of the cereals is {max_sodium}\""
   ]
  },
  {
   "cell_type": "markdown",
   "metadata": {},
   "source": [
    "&#9989; **Question 2.3.5 (2 points)**: Which brand of cereal has the most calories per serving? (We are asking for the cereal brand, not the amount of calories). **Hint** `Pandas` has an `idxmax()` method that can help locate the index of the maximum value in a column."
   ]
  },
  {
   "cell_type": "code",
   "execution_count": 6,
   "metadata": {},
   "outputs": [
    {
     "data": {
      "text/plain": [
       "'The brand of cereal that has the most calories per serving is Mueslix Crispy Blend'"
      ]
     },
     "execution_count": 6,
     "metadata": {},
     "output_type": "execute_result"
    }
   ],
   "source": [
    "max_calories_index= cereal_data['calories'].idxmax()\n",
    "\n",
    "most_cal_brand= cereal_data.loc[max_calories_index, 'name']\n",
    "\n",
    "\n",
    "f\"The brand of cereal that has the most calories per serving is {most_cal_brand}\""
   ]
  },
  {
   "cell_type": "markdown",
   "metadata": {},
   "source": [
    "&#9989; **Question 2.3.6 (2 points)**: What is the average amount of fiber per serving in just the cereals manufactured by General Mills? Cereals made by General Mills have a `G` in the `mfr` column. **Hint**: One way to start this is to create a boolean mask to filter out cereals by other manufacturers. "
   ]
  },
  {
   "cell_type": "code",
   "execution_count": 7,
   "metadata": {},
   "outputs": [
    {
     "data": {
      "text/plain": [
       "'The average amount of fiber per serving in just the cereals manufactured by General Mills is 1.2727272727272727'"
      ]
     },
     "execution_count": 7,
     "metadata": {},
     "output_type": "execute_result"
    }
   ],
   "source": [
    "mask= cereal_data['mfr'] == 'G'\n",
    "\n",
    "GM_avg_fiber= cereal_data[mask]['fiber'].mean()\n",
    "\n",
    "f\"The average amount of fiber per serving in just the cereals manufactured by General Mills is {GM_avg_fiber}\"\n"
   ]
  },
  {
   "cell_type": "markdown",
   "metadata": {},
   "source": [
    "**Reminder**: If you are having trouble with parts of Question 2.3, don't forget that you can use your favorite search engine to lookup how to do certain tasks with a `Pandas` `DataFrame`."
   ]
  },
  {
   "cell_type": "markdown",
   "metadata": {},
   "source": [
    "Now that you are more acquainted with the cereal data in your `DataFrame`, let's start making some visualizations of this data.\n",
    "\n",
    "&#9989; **Question 2.4 (3 points)**: Make a scatterplot showing the amount of potassium (in mg) per serving on the x-axis and the amount of fiber (in g) on the y-axis. **Make sure to label your axes and give your plot a title.**"
   ]
  },
  {
   "cell_type": "code",
   "execution_count": 8,
   "metadata": {},
   "outputs": [
    {
     "data": {
      "image/png": "[encoded data removed]",
      "text/plain": [
       "<Figure size 432x288 with 1 Axes>"
      ]
     },
     "metadata": {
      "needs_background": "light"
     },
     "output_type": "display_data"
    }
   ],
   "source": [
    "import matplotlib.pyplot as plt\n",
    "plt.scatter(cereal_data['potass'], cereal_data[\"fiber\"], c=\"hotpink\")\n",
    "plt.xlabel(\"Potassium(mg)\")\n",
    "plt.ylabel(\"Fiber(g)\")\n",
    "plt.title(\"Potassium vs Fiber for Cereal Data\")\n",
    "plt.grid(True)\n",
    "plt.show()"
   ]
  },
  {
   "cell_type": "markdown",
   "metadata": {},
   "source": [
    "&#9989; **Question 2.5 (1 point)**: Describe the general relationship between amount of fiber and the amount of potassium in the cereals in this dataset."
   ]
  },
  {
   "cell_type": "markdown",
   "metadata": {},
   "source": [
    "**<font size=+3>&#9998;</font> Do This**: **It seems that the relationship between amount of fiber and amount of potassium in the cereals in this dataset is a positive relationship where the amounts rise together linearly.**"
   ]
  },
  {
   "cell_type": "markdown",
   "metadata": {},
   "source": [
    "&#9989; **Question 2.6 (3 points)**: Make a scatterplot showing the amount of sugars (in g) per serving on the x-axis and the rating on the y-axis. **Again, make sure to label your axes and give your plot a title.**"
   ]
  },
  {
   "cell_type": "code",
   "execution_count": 9,
   "metadata": {},
   "outputs": [
    {
     "data": {
      "image/png": "[encoded data removed]",
      "text/plain": [
       "<Figure size 432x288 with 1 Axes>"
      ]
     },
     "metadata": {
      "needs_background": "light"
     },
     "output_type": "display_data"
    }
   ],
   "source": [
    "plt.scatter(cereal_data['sugars'], cereal_data[\"rating\"], c=\"hotpink\")\n",
    "plt.xlabel(\"Sugars(g)\")\n",
    "plt.ylabel(\"Rating\")\n",
    "plt.title(\"Sugars vs Rating for Cereal Data\")\n",
    "plt.grid(True)\n",
    "plt.show()"
   ]
  },
  {
   "cell_type": "markdown",
   "metadata": {},
   "source": [
    "&#9989; **Question 2.7 (1 point)**: Describe the general relationship between the rating and amount of sugars in the cereals in this dataset."
   ]
  },
  {
   "cell_type": "markdown",
   "metadata": {},
   "source": [
    "**<font size=+3>&#9998;</font> Do This**: **It seems that the relationship between amount of sugars and rating in the cereals in this dataset is a negative relationship, where the rating goes down as amount of sugars rise.**"
   ]
  },
  {
   "cell_type": "markdown",
   "metadata": {},
   "source": [
    "&#9989; **Question 2.8 (2 points)**: Qualitatively, which pair of features appears to have a \"stronger\" relationship: (1) fiber vs. potassium, or (2) rating vs. sugars. **Justify your answer.**"
   ]
  },
  {
   "cell_type": "markdown",
   "metadata": {},
   "source": [
    "**<font size=+3>&#9998;</font> Do This**: **The first pair of features appearas to have a stronger relationship as the datapoints are gathered more closely along one slope line.**"
   ]
  },
  {
   "cell_type": "markdown",
   "metadata": {},
   "source": [
    "&#9989; **Question 2.9 (2 points)**: Suppose we wanted to look at the relationships between every pair of numerical features. What specific Python/Pandas fucntion(s)/tool(s) could you use to do this efficiently, i.e., without writing for loops or manually making a figure for every pair of numerical features? Note that you do not need to actually make a figure for this, just stating which function(s)/tool(s) you'd use is sufficient."
   ]
  },
  {
   "cell_type": "markdown",
   "metadata": {},
   "source": [
    "**<font size=+3>&#9998;</font> Do This**: **Pandas scatter matrix function.**"
   ]
  },
  {
   "cell_type": "markdown",
   "metadata": {},
   "source": [
    "---\n",
    "### &#128721; STOP\n",
    "**Pause to commit your changes to your Git repository!**\n",
    "\n",
    "Take a moment to save your notebook, commit the changes to your Git repository using the commit message \"**Committing Part 2**\", and push the changes to GitHub.\n",
    "\n",
    "---"
   ]
  },
  {
   "cell_type": "markdown",
   "metadata": {},
   "source": [
    "---\n",
    "## Part 3: Working with a new Python package (13 points)"
   ]
  },
  {
   "cell_type": "markdown",
   "metadata": {},
   "source": [
    "In this part of the exam, you will install a Python package that you probably have not used before, and use it to perform a simple task. Specifically, you will use a package called `pydealer` to perform some tasks with a standard deck of playing cards. The source code for the `pydealer` package can be found at https://github.com/Trebek/pydealer/tree/dev and the documentation can be found at https://pydealer.readthedocs.io/en/latest/. If you have never seen a standard deck of playing cards before, here's the wikipedia article https://en.wikipedia.org/wiki/Standard_52-card_deck."
   ]
  },
  {
   "cell_type": "markdown",
   "metadata": {},
   "source": [
    "&#9989; **Question 3.1 (2 points)**: Unfortunately, `pydealer` is not already included with Anaconda. However, you should be able to install the package in the same way we have used previously to install Python packages.\n",
    "\n",
    "**Do this**: Install the `pydealer` Python package.\n",
    "\n",
    "What command did you use to install `pydealer`? **Include this command in the cell below.**"
   ]
  },
  {
   "cell_type": "markdown",
   "metadata": {},
   "source": [
    "``` bash\n",
    "pip install pydealer\n",
    "\n",
    "```"
   ]
  },
  {
   "cell_type": "markdown",
   "metadata": {},
   "source": [
    "Once `pydealer` is installed, running the following cell should not result in an error message. **You might need to re-start your Jupyter kernel after installing the package for this to work.** (Once everything works, it should give you no output at all.)"
   ]
  },
  {
   "cell_type": "code",
   "execution_count": 10,
   "metadata": {},
   "outputs": [],
   "source": [
    "# Running this cell should just work and not yield any output if pydealer is installed and available\n",
    "import pydealer\n",
    "from pydealer import Stack"
   ]
  },
  {
   "cell_type": "markdown",
   "metadata": {},
   "source": [
    "In Questions 3.2-3.6, you will use the `pydealer` package to perform some tasks with a deck of cards. \n",
    "\n",
    "**WARNING**: Every time you run a code cell, the Jupyter notebook will attempt to excecute the commands you wrote in that cell. In particular, running a cell multiple times can cause some undesireable behaviors. For example, if you have a hand with 7 cards, and you write code in a cell to discard 3 cards from your hand but accidentally run that cell twice, you'll have discarded a total of 6 cards instead of 3, and your hand will be left with just 1 card instead of 4. If things are behaving weirdly for you in this part, it might help to rerun each code cell you've written exactly once."
   ]
  },
  {
   "cell_type": "markdown",
   "metadata": {},
   "source": [
    "&#9989; **Question 3.2 (3 points)**: **Do this**: Perform the following steps in order:\n",
    "1. Construct a new instance of a `Deck` called `deck`\n",
    "2. Shuffle the `deck` you created\n",
    "3. Deal 5 cards from the `deck` to an instance of a `Stack` called `hand`\n",
    "4. Print your `hand`.\n",
    "\n",
    "It will likely help to find a \"Quick Usage Example\" on the `pydealer` documentation site to use as a starting point. You should **NOT** sort your `hand` in your code for Question 3.2."
   ]
  },
  {
   "cell_type": "code",
   "execution_count": 11,
   "metadata": {},
   "outputs": [
    {
     "name": "stdout",
     "output_type": "stream",
     "text": [
      "Jack of Spades\n",
      "6 of Diamonds\n",
      "7 of Diamonds\n",
      "9 of Hearts\n",
      "Ace of Clubs\n"
     ]
    }
   ],
   "source": [
    "#https://pydealer.readthedocs.io/en/latest/usage.html#deal-cards-from-a-stack-deck\n",
    "deck= pydealer.Deck()\n",
    "\n",
    "deck.shuffle()\n",
    "\n",
    "hand = pydealer.Stack()\n",
    "\n",
    "hand.add(deck.deal(5))\n",
    "\n",
    "print(hand)\n"
   ]
  },
  {
   "cell_type": "markdown",
   "metadata": {},
   "source": [
    "If everything worked, your `hand` should have 5 distinct cards.\n",
    "\n",
    "&#9989; **Question 3.3 (2 points)**: **Do this**: Retrieve (but not remove) the middle card (the one at index-2) from your `hand` and store it in a variable called `middle_card`. Then, print `middle_card` and `hand` to show that you retrieved the card without removing it from your `hand`."
   ]
  },
  {
   "cell_type": "code",
   "execution_count": 12,
   "metadata": {},
   "outputs": [
    {
     "name": "stdout",
     "output_type": "stream",
     "text": [
      "Middle card: 7 of Diamonds\n",
      "Hand: Jack of Spades\n",
      "6 of Diamonds\n",
      "7 of Diamonds\n",
      "9 of Hearts\n",
      "Ace of Clubs\n"
     ]
    }
   ],
   "source": [
    "middle_card=hand[2]\n",
    "print(\"Middle card:\", middle_card)\n",
    "print(\"Hand:\", hand)"
   ]
  },
  {
   "cell_type": "markdown",
   "metadata": {},
   "source": [
    "&#9989; **Question 3.4 (2 points)**: **Do this**: Now, remove the last card (the one at index-4) from your `hand` and store it in a variable called `last_card`. Then print `last_card` and `hand` to show that you removed the card from your `hand`. \n",
    "\n",
    "**Hint**: When looking at the documentation, remember that your `hand` is also an instance of the `Stack` class."
   ]
  },
  {
   "cell_type": "code",
   "execution_count": 13,
   "metadata": {},
   "outputs": [
    {
     "name": "stdout",
     "output_type": "stream",
     "text": [
      "Last card: Jack of Spades\n",
      "Hand: Ace of Clubs\n",
      "9 of Hearts\n",
      "7 of Diamonds\n",
      "6 of Diamonds\n"
     ]
    }
   ],
   "source": [
    "temp_stack = Stack(cards=hand)\n",
    "\n",
    "hand = Stack()\n",
    "\n",
    "for i in range(4):\n",
    "    hand.add(temp_stack.deal())\n",
    "\n",
    "last_card = temp_stack.deal()\n",
    "\n",
    "hand += temp_stack\n",
    "\n",
    "print(\"Last card:\", last_card)\n",
    "print(\"Hand:\", hand)\n"
   ]
  },
  {
   "cell_type": "markdown",
   "metadata": {},
   "source": [
    "&#9989; **Question 3.5 (3 points)**: **Do This**: Now that your hand has just 4 cards, deal out 1 card from the `deck` and add it to your `hand`. Print your `hand` to show that now has 5 cards."
   ]
  },
  {
   "cell_type": "code",
   "execution_count": 14,
   "metadata": {},
   "outputs": [
    {
     "name": "stdout",
     "output_type": "stream",
     "text": [
      "Ace of Clubs\n",
      "9 of Hearts\n",
      "7 of Diamonds\n",
      "6 of Diamonds\n",
      "6 of Hearts\n"
     ]
    }
   ],
   "source": [
    "new_card =deck.deal()\n",
    "hand.add(new_card)\n",
    "\n",
    "print(hand)"
   ]
  },
  {
   "cell_type": "markdown",
   "metadata": {},
   "source": [
    "&#9989; **Question 3.6 (1 point)**: **Do This**: In the cell below, put code that you can run to find out how many cards are left in the `deck`. "
   ]
  },
  {
   "cell_type": "code",
   "execution_count": 20,
   "metadata": {},
   "outputs": [
    {
     "name": "stdout",
     "output_type": "stream",
     "text": [
      "46\n"
     ]
    }
   ],
   "source": [
    "cards_left=deck.size\n",
    "print(cards_left)"
   ]
  },
  {
   "cell_type": "markdown",
   "metadata": {},
   "source": [
    "---\n",
    "### &#128721; STOP\n",
    "**Pause to commit your changes to your Git repository!**\n",
    "\n",
    "Take a moment to save your notebook, commit the changes to your Git repository using the commit message \"**Committing Part 3**\", and push the changes to GitHub.\n",
    "\n",
    "---"
   ]
  },
  {
   "cell_type": "markdown",
   "metadata": {},
   "source": [
    "---\n",
    "## Part 4: Writing and using Python classes (18 points)"
   ]
  },
  {
   "cell_type": "markdown",
   "metadata": {},
   "source": [
    "In this part of the exam, you will practice object-oriented programming (OOP). Specifically, you will first test out a `Team` class, which is used to keep track of a team's wins and losses in games. After verifying that the `Team` class works, you will debug and add to a `Group` class which will keep track of several teams that compete against each other. \n",
    "\n",
    "&#9989; **Do This**: To get started, run the code cell below, but **DO NOT modify it.**"
   ]
  },
  {
   "cell_type": "code",
   "execution_count": 21,
   "metadata": {},
   "outputs": [],
   "source": [
    "### RUN THIS CELL, BUT DO NOT MODIFY IT\n",
    "### RUN THIS CELL, BUT DO NOT MODIFY IT\n",
    "class Team:\n",
    "    '''This is a class used to keep track of a team's wins and losses against other teams.'''\n",
    "    \n",
    "    def __init__(self,name):\n",
    "        '''Create a team with specified name and a 0-0 record, i.e. no games played yet'''\n",
    "        self.name = name\n",
    "        self.numwins = 0\n",
    "        self.numlosses = 0\n",
    "        self.wins = [] # List of teams that this team won against\n",
    "        self.losses = [] # List of teams that this team lost against\n",
    "        \n",
    "    def add_win(self,opponent=\"\"):\n",
    "        ''' Record a win against opponent'''\n",
    "        self.numwins += 1\n",
    "        self.wins.append(opponent)\n",
    "        \n",
    "    def add_loss(self,opponent=\"\"):\n",
    "        ''' Record a loss against opponent'''\n",
    "        self.numlosses += 1\n",
    "        self.losses.append(opponent)\n",
    "        \n",
    "    def disp_record(self):\n",
    "        ''' Display the win-loss record of the team'''\n",
    "        print(self.name,\":\",self.numwins, \"-\", self.numlosses)\n",
    "        \n",
    "    def disp_detailed_record(self):\n",
    "        ''' Display a list of the teams this team won against and lost against'''\n",
    "        print(self.name,\"won vs.\",self.wins,\"and lost vs.\",self.losses)\n",
    "### RUN THIS CELL, BUT DO NOT MODIFY IT\n",
    "### RUN THIS CELL, BUT DO NOT MODIFY IT"
   ]
  },
  {
   "cell_type": "markdown",
   "metadata": {},
   "source": [
    "&#9989; **Question 4.1 [6 points]**: **Do this**: The cell above contains a minimally functional `Team` class that can be used to keep track of the number of wins and losses a team has, as well as which teams it won against and lost against. To verify that this class works as intended, do the following in the cell below: \n",
    "\n",
    "1. Create a `Team` object with the string `\"Michigan State\"` as its `name` attribute, and store  in a variable named `sparty`.\n",
    "\n",
    "2. Call `sparty`'s `add_win()` method with the string `\"Central Michigan\"` as the `opponent` argument.\n",
    "\n",
    "3. Call `sparty`'s `add_win()` method again, but this time with the string `\"Richmond\"` as the `opponent` argument.\n",
    "\n",
    "4. Call `sparty`'s `add_loss()` method, with the string `\"Washington\"` as the `opponent` argument.\n",
    "\n",
    "5. Call `sparty`'s `disp_record()` method \n",
    "\n",
    "6. Call `sparty`'s `disp_detailed_record()` method\n",
    "\n",
    "If you did the above steps correctly, you should see the following lines printed:\n",
    "\n",
    "> Michigan State : 2 - 1    \n",
    "Michigan State won vs. ['Central Michigan', 'Richmond'] and lost vs. ['Washington']"
   ]
  },
  {
   "cell_type": "code",
   "execution_count": 22,
   "metadata": {},
   "outputs": [
    {
     "name": "stdout",
     "output_type": "stream",
     "text": [
      "Michigan State : 2 - 1\n",
      "Michigan State won vs. ['Central Michigan', 'Richmond'] and lost vs. ['Washington']\n"
     ]
    }
   ],
   "source": [
    "sparty = Team(\"Michigan State\")\n",
    "\n",
    "sparty.add_win(\"Central Michigan\")\n",
    "sparty.add_win(\"Richmond\")\n",
    "sparty.add_loss(\"Washington\")\n",
    "\n",
    "sparty.disp_record()\n",
    "sparty.disp_detailed_record()\n"
   ]
  },
  {
   "cell_type": "markdown",
   "metadata": {},
   "source": [
    "&#9989; **Question 4.2 [12 points]**: **Do this**: The cell below has code for a class called `Group` that we intend to use to keep track of the wins and losses for a group of teams that compete against each other in a head-to-head manner (i.e. two teams face each other in a game, one wins and the other loses). Debug the four methods currently in the `Group` class and add the `disp_group_details()` method.\n",
    "\n",
    "This new `Group` class should do the following:\n",
    "\n",
    "* The `__init__()` method should create a new `Group` object with a specified `group_name` attribute and another attribute called `teams_dict` which is initially an empty Python **dictionary**. This dictionary will be used for storing `Team` objects. The keys of this dictionary are intended to be the strings containing the name attribute of each `Team` object, and the values of this dictionary are intended to be the `Team` objects.  \n",
    "\n",
    "\n",
    "* The `add_team()` method should add a new key:value pair to the `teams_dict` dictionary, where the key is the `name` attribute of the new `Team` object and the value is the `Team` object itself.\n",
    "\n",
    "    \n",
    "* The `game_result()` method is intended to update the information of two teams after playing against each other. The `winner_name` and `loser_name` arguments are strings with the name of the winner and loser of the game respectively. This method should then \n",
    "    * access the winning team's object in `teams_dict` and call its `add_win()` method with `loser_name` as the argument \n",
    "    * access the losing team's object in `teams_dict` and call its `add_loss()` method with `winner_name` as the argument. \n",
    "    \n",
    "\n",
    "* The `disp_standings()` method is intended to print out the records of each team. The `disp_standings()` method should \n",
    "    * print the strings `\"[group_name] Standings\"` and `\"Team : Wins - Losses\"`\n",
    "    * for each `Team` object in `teams_dict`, call its `disp_record()` method\n",
    "    \n",
    "    \n",
    "* The `disp_group_details()` method hasn't been coded yet, but we want it to print out the win/loss information for each team. The `disp_standings()` method should \n",
    "    * print the string `\"[group_name] Details\"`\n",
    "    * for each `Team` object in `teams_dict`, call its `disp_detailed_record()` method\n",
    "    \n",
    "**Hint**: A certain word is missing many times below. This word is longer than elf but shorter than shelf."
   ]
  },
  {
   "cell_type": "code",
   "execution_count": 26,
   "metadata": {},
   "outputs": [],
   "source": [
    "class Group:\n",
    "    '''\n",
    "    This is a class used to keep track of the wins and losses for a group of teams\n",
    "    that compete against each other in a head-to-head manner (i.e. two team play each other)\n",
    "    '''\n",
    "    def __init__(group_name):\n",
    "        '''Create a new group with specified name, but no teams'''\n",
    "        self.group_name = group_name\n",
    "        self.teams_dict = {}\n",
    "    \n",
    "    def add_team(team_obj):\n",
    "        '''Add a new team to the group'''\n",
    "        self.teams_dict[team_obj.name] = team_obj\n",
    "    \n",
    "    def game_result(winner_name,loser_name):\n",
    "        '''Update info for the winning and losing teams'''\n",
    "        self.winner_name.add_win(winner_name)\n",
    "        self.add_loss(loser_name)        \n",
    "    \n",
    "    def disp_standings():\n",
    "        '''Display the number of wins and losses for each team in the group'''\n",
    "        print(group_name,\"Standings\")\n",
    "        print(\"Team : Wins - Losses\")\n",
    "        for team in teams_dict:\n",
    "            team.disp_record()"
   ]
  },
  {
   "cell_type": "markdown",
   "metadata": {},
   "source": [
    "&#9989; **Do this**: When you are done editing the `Group` class, run the cell below to test it out, but **DO NOT modify it.**"
   ]
  },
  {
   "cell_type": "code",
   "execution_count": 28,
   "metadata": {},
   "outputs": [
    {
     "name": "stdout",
     "output_type": "stream",
     "text": [
      "Fake Group Standings\n",
      "Team : Wins - Losses\n",
      "United States : 3 - 0\n",
      "Canada : 2 - 1\n",
      "Mexico : 1 - 2\n",
      "Costa Rica : 0 - 3\n",
      "\n",
      "Fake Group Details\n",
      "United States won vs. ['Canada', 'Mexico', 'Costa Rica'] and lost vs. []\n",
      "Canada won vs. ['Costa Rica', 'Mexico'] and lost vs. ['United States']\n",
      "Mexico won vs. ['Costa Rica'] and lost vs. ['United States', 'Canada']\n",
      "Costa Rica won vs. [] and lost vs. ['Mexico', 'Canada', 'United States']\n"
     ]
    }
   ],
   "source": [
    "### RUN THIS CELL, BUT DO NOT MODIFY IT\n",
    "### RUN THIS CELL, BUT DO NOT MODIFY IT\n",
    "# Create some teams\n",
    "usa = Team(\"United States\")\n",
    "can = Team(\"Canada\")\n",
    "mex = Team(\"Mexico\")\n",
    "cri = Team(\"Costa Rica\")\n",
    "# Create a group and add the teams to the group\n",
    "fake_group = Group(\"Fake Group\")\n",
    "fake_group.add_team(usa)\n",
    "fake_group.add_team(can)\n",
    "fake_group.add_team(mex)\n",
    "fake_group.add_team(cri)\n",
    "# Record some game results\n",
    "fake_group.game_result(\"United States\",\"Canada\")\n",
    "fake_group.game_result(\"Mexico\",\"Costa Rica\")\n",
    "fake_group.game_result(\"United States\",\"Mexico\")\n",
    "fake_group.game_result(\"Canada\",\"Costa Rica\")\n",
    "fake_group.game_result(\"United States\",\"Costa Rica\")\n",
    "fake_group.game_result(\"Canada\",\"Mexico\")\n",
    "# Display standings and group details\n",
    "fake_group.disp_standings()\n",
    "print(\"\")\n",
    "fake_group.disp_group_details()\n",
    "### RUN THIS CELL, BUT DO NOT MODIFY IT\n",
    "### RUN THIS CELL, BUT DO NOT MODIFY IT"
   ]
  },
  {
   "cell_type": "markdown",
   "metadata": {},
   "source": [
    "If everything worked correctly, you should see an output that looks like this:\n",
    "> Fake Group Standings  \n",
    "Team : Wins - Losses  \n",
    "United States : 3 - 0  \n",
    "Canada : 2 - 1  \n",
    "Mexico : 1 - 2  \n",
    "Costa Rica : 0 - 3  \n",
    "&nbsp;  \n",
    "Fake Group Details  \n",
    "United States won vs. ['Canada', 'Mexico', 'Costa Rica'] and lost vs. []  \n",
    "Canada won vs. ['Costa Rica', 'Mexico'] and lost vs. ['United States']  \n",
    "Mexico won vs. ['Costa Rica'] and lost vs. ['United States', 'Canada']  \n",
    "Costa Rica won vs. [] and lost vs. ['Mexico', 'Canada', 'United States']  "
   ]
  },
  {
   "cell_type": "markdown",
   "metadata": {},
   "source": [
    "---\n",
    "### &#128721; STOP\n",
    "**Pause to commit your changes to your Git repository!**\n",
    "\n",
    "Take a moment to save your notebook, commit the changes to your Git repository using the commit message \"**Committing Part 4**\", and push the changes to GitHub.\n",
    "\n",
    "---"
   ]
  },
  {
   "cell_type": "markdown",
   "metadata": {},
   "source": [
    "## You're done! Congrats on finishing your CMSE 202 Midterm!\n",
    "\n",
    "Make sure all of your changes to your repository are committed and pushed to GitHub. Also upload a copy of this notebook to the dropbox on D2L in case something went wrong with your repository or if you couldn't get the repository to work."
   ]
  }
 ],
 "metadata": {
  "kernelspec": {
   "display_name": "Python 3.8",
   "language": "python",
   "name": "python3"
  },
  "language_info": {
   "codemirror_mode": {
    "name": "ipython",
    "version": 3
   },
   "file_extension": ".py",
   "mimetype": "text/x-python",
   "name": "python",
   "nbconvert_exporter": "python",
   "pygments_lexer": "ipython3",
   "version": "3.8.8"
  }
 },
 "nbformat": 4,
 "nbformat_minor": 4
}
